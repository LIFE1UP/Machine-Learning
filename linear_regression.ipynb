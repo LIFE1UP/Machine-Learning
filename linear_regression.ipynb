{
 "cells": [
  {
   "cell_type": "markdown",
   "id": "81694a87",
   "metadata": {},
   "source": [
    "# Linear_regression.ipynb - Regression from Scratch\n",
    "몇 가지 파이썬 라이브러리만을 사용하여, 별로 어렵지 않게 리그레션을 구현해보자"
   ]
  },
  {
   "cell_type": "code",
   "execution_count": 1,
   "id": "abce4d72",
   "metadata": {},
   "outputs": [],
   "source": [
    "from sklearn.datasets import load_iris\n",
    "import matplotlib.pyplot as plt\n",
    "import numpy as np\n",
    "import pandas as pd\n",
    "import random"
   ]
  },
  {
   "cell_type": "code",
   "execution_count": 2,
   "id": "6c35f6a8",
   "metadata": {},
   "outputs": [],
   "source": [
    "# set data pipline and hyper-parameters\n",
    "data = load_iris()\n",
    "shuffledIndices = np.random.permutation(len(data.target))\n",
    "data.data, data.target = data.data[shuffledIndices], data.target[shuffledIndices]\n",
    "trainX, testX = data.data[:100,1:3], data.data[100:,1:3]\n",
    "trainY, testY = data.target[:100], data.target[100:]\n",
    "weight = np.random.rand(trainX.shape[1])\n",
    "lr = 0.001\n",
    "iterations = 10000"
   ]
  },
  {
   "cell_type": "code",
   "execution_count": 3,
   "id": "311a549c",
   "metadata": {},
   "outputs": [
    {
     "data": {
      "image/png": "[encoded data removed]",
      "text/plain": [
       "<Figure size 360x360 with 1 Axes>"
      ]
     },
     "metadata": {
      "needs_background": "light"
     },
     "output_type": "display_data"
    }
   ],
   "source": [
    "plt.figure(figsize=(5,5))\n",
    "plt.scatter(x=trainX[:,0], y=trainX[:,1], s=50, alpha=0.8, c=trainY)\n",
    "plt.xlim(trainX[:,0].min() - 0.5, trainX[:,0].max() + 0.5)\n",
    "plt.grid()\n",
    "plt.show()"
   ]
  },
  {
   "cell_type": "code",
   "execution_count": 4,
   "id": "fc074530",
   "metadata": {},
   "outputs": [
    {
     "name": "stdout",
     "output_type": "stream",
     "text": [
      "we only use mse and mae for now... don't use the others\n"
     ]
    }
   ],
   "source": [
    "# cost funtion\n",
    "def mean_squared_error():\n",
    "    global testX, testY\n",
    "    \n",
    "    predictY = np.dot(testX, weight)\n",
    "    loss = np.sum(np.dot(testX.T, (predictY - testY)**2))\n",
    "    \n",
    "    print(f\"cost: {loss}\")\n",
    "# MSE\n",
    "\n",
    "def mean_absolute_error():\n",
    "    global testX, testY\n",
    "    \n",
    "    predictY = np.dot(testX, weight)\n",
    "    loss = np.sum(np.dot(testX.T, abs(predictY - testY)))\n",
    "    \n",
    "    print(f\"cost: {loss}\")\n",
    "# MAE\n",
    "\n",
    "# don't use belows\n",
    "\"\"\"\n",
    "def cross_entropy():\n",
    "    global testX, testY\n",
    "    e = 2.7182\n",
    "    \n",
    "    predictY = np.dot(testX, weight)\n",
    "    loss = np.sum(np.array([(1 - predictY[i])**-e if testY[i] == 1 else ((predictY[i])**-e) for i in range(len(testY))]))\n",
    "    \n",
    "    print(f\"cost: {loss}\")\n",
    "# CE\n",
    "\n",
    "def negative_log_likelihood():\n",
    "    global testX, testY\n",
    "    e = 2.7182\n",
    "    \n",
    "    predictY = np.dot(testX, weight)\n",
    "    loss = np.sum(np.array([(1 - predictY[i])**-e if testY[i] == 1 else ((predictY[i])**-e) for i in range(len(testY))]))\n",
    "    \n",
    "    print(f\"cost: {loss}\")\n",
    "# NLL\n",
    "\"\"\"\n",
    "print(\"we only use mse and mae for now... don't use the others\")"
   ]
  },
  {
   "cell_type": "code",
   "execution_count": 5,
   "id": "e183dde4",
   "metadata": {},
   "outputs": [
    {
     "name": "stdout",
     "output_type": "stream",
     "text": [
      "cost: 997.5704837892987\n",
      "cost: 510.7810560333163\n"
     ]
    }
   ],
   "source": [
    "mean_squared_error()\n",
    "mean_absolute_error()"
   ]
  },
  {
   "cell_type": "code",
   "execution_count": 6,
   "id": "06d40e6e",
   "metadata": {},
   "outputs": [],
   "source": [
    "# define activation functions\n",
    "nothing = lambda x: x\n",
    "sigmoid = lambda x: 1 / (1 + 2.7182**(-x))  # don't use th!s\n",
    "bipolar = lambda xSet: np.array([-1 if x < 0 else 1 for x in xSet])  # don't use th!s\n",
    "\n",
    "# activation fn dictionary\n",
    "actDict = {\"nothing\":nothing,\"sigmoid\":sigmoid,\"bipolar\":bipolar}"
   ]
  },
  {
   "cell_type": "code",
   "execution_count": 7,
   "id": "2560dc97",
   "metadata": {},
   "outputs": [],
   "source": [
    "# define gradient descent rule\n",
    "def gradient_descent_rule(name):\n",
    "    global trainX, trainY, weight, lr\n",
    "    \n",
    "    activHX = actDict[name](np.dot(trainX, weight))\n",
    "    weight -= (lr / trainX.shape[0]) * np.dot(trainX.T, (activHX - trainY))"
   ]
  },
  {
   "cell_type": "code",
   "execution_count": 8,
   "id": "a305bb62",
   "metadata": {},
   "outputs": [],
   "source": [
    "for epoch in range(iterations):\n",
    "    gradient_descent_rule(\"nothing\")  # don't touch these"
   ]
  },
  {
   "cell_type": "code",
   "execution_count": 9,
   "id": "b2944eff",
   "metadata": {},
   "outputs": [],
   "source": [
    "# define predict\n",
    "def predict(case):\n",
    "    global weight\n",
    "    \n",
    "    if type(case) == list:\n",
    "        case = np.array(case)\n",
    "    \n",
    "    return round(np.dot(case, weight))"
   ]
  },
  {
   "cell_type": "code",
   "execution_count": 10,
   "id": "a47aec15",
   "metadata": {},
   "outputs": [
    {
     "name": "stdout",
     "output_type": "stream",
     "text": [
      "pred: 1.000, actual target: 1\n"
     ]
    }
   ],
   "source": [
    "index = random.randrange(len(testY))\n",
    "prediction = predict(testX[index,:])\n",
    "print(f\"pred: {prediction:.3f}, actual target: {testY[index]}\")"
   ]
  },
  {
   "cell_type": "code",
   "execution_count": 11,
   "id": "70d03143",
   "metadata": {},
   "outputs": [],
   "source": [
    "# making decision boundaries\n",
    "baseX = np.linspace(trainX[:,0].min() - 1, trainX[:,0].max() + 1, 2)\n",
    "boundary1, boundary2 = list(), list()\n",
    "i, counter = 0, 0\n",
    "\n",
    "for n in baseX:\n",
    "    while i < trainX[:,1].max():\n",
    "        if predict([n,i]) == 1. and counter == 0:\n",
    "            boundary1.append([n,i])\n",
    "            counter += 1\n",
    "        \n",
    "        if predict([n,i]) == 2. and counter == 1:\n",
    "            boundary2.append([n,i])\n",
    "            break\n",
    "        i += 0.1\n",
    "    # while\n",
    "    i = 0\n",
    "    counter = 0\n",
    "# for\n",
    "\n",
    "boundary1 = np.array(boundary1)\n",
    "boundary2 = np.array(boundary2)"
   ]
  },
  {
   "cell_type": "code",
   "execution_count": 12,
   "id": "5aef55dd",
   "metadata": {},
   "outputs": [
    {
     "data": {
      "image/png": "[encoded data removed]",
      "text/plain": [
       "<Figure size 360x360 with 1 Axes>"
      ]
     },
     "metadata": {
      "needs_background": "light"
     },
     "output_type": "display_data"
    }
   ],
   "source": [
    "plt.figure(figsize=(5,5))\n",
    "plt.scatter(x=trainX[:,0], y=trainX[:,1], s=50, alpha=1, c=trainY)\n",
    "plt.scatter(x=testX[index,0], y=testX[index,1], c='r', s=200, marker='+')\n",
    "plt.plot(boundary1[:,0], boundary1[:,1], c='black')\n",
    "plt.plot(boundary2[:,0], boundary2[:,1], c='black')\n",
    "plt.xlim(trainX[:,0].min() - 0.5, trainX[:,0].max() + 0.5)\n",
    "plt.grid()\n",
    "plt.xlabel(f\"Prediction: {prediction:.0f}, Actual Target: {testY[index]}\")\n",
    "plt.ylabel(\"Yellow = 2, Green = 1, Violet = 0\")\n",
    "plt.title(\"load_iris\")\n",
    "plt.show()"
   ]
  },
  {
   "cell_type": "code",
   "execution_count": 13,
   "id": "6d65f648",
   "metadata": {},
   "outputs": [
    {
     "name": "stdout",
     "output_type": "stream",
     "text": [
      "cost: 25.512402865508527\n",
      "cost: 77.56043654735328\n"
     ]
    }
   ],
   "source": [
    "mean_squared_error()\n",
    "mean_absolute_error()"
   ]
  }
 ],
 "metadata": {
  "kernelspec": {
   "display_name": "Python 3",
   "language": "python",
   "name": "python3"
  },
  "language_info": {
   "codemirror_mode": {
    "name": "ipython",
    "version": 3
   },
   "file_extension": ".py",
   "mimetype": "text/x-python",
   "name": "python",
   "nbconvert_exporter": "python",
   "pygments_lexer": "ipython3",
   "version": "3.8.8"
  }
 },
 "nbformat": 4,
 "nbformat_minor": 5
}
